{
 "cells": [
  {
   "cell_type": "code",
   "execution_count": 1,
   "metadata": {},
   "outputs": [
    {
     "name": "stdout",
     "output_type": "stream",
     "text": [
      "232\n"
     ]
    }
   ],
   "source": [
    "age = str(23) # \"23\" \n",
    "age += \"2\"\n",
    "print(age)"
   ]
  },
  {
   "cell_type": "code",
   "execution_count": 10,
   "metadata": {},
   "outputs": [
    {
     "name": "stdout",
     "output_type": "stream",
     "text": [
      "You are an adult\n",
      "ticket price for an adult is 10.0\n",
      "You may enter, you have a ticket\n"
     ]
    }
   ],
   "source": [
    "age = int(input(\"Enter your age : \"))\n",
    "has_ticket = True\n",
    "price = 10.00\n",
    "\n",
    "if age >= 65:\n",
    "    print(\"You are a senior citizen\")\n",
    "    print(f\"ticket price for a senior citizen is {price * 0.5}\")\n",
    "elif age >= 20:\n",
    "    print(\"You are an adult\")\n",
    "    print(f\"ticket price for an adult is {price}\")\n",
    "elif age > 10:\n",
    "    print(\"You are a teenager\")\n",
    "    print(f\"ticket price for an adult is {price * 0.75}\")\n",
    "elif age == 0:\n",
    "    print(\"You are a new born\")\n",
    "elif age < 0:\n",
    "    print(\"Please enter a valid age\")\n",
    "elif age <= 10:\n",
    "    print(\"You are a child\")\n",
    "    print(f\"ticket price for an child is {price * 0.25}\")\n",
    "\n",
    "\n",
    "if has_ticket:\n",
    "    print(\"You may enter, you have a ticket\")\n",
    "else:\n",
    "    print(\"You cannot enter. Buy a ticket\")"
   ]
  },
  {
   "cell_type": "code",
   "execution_count": 1,
   "metadata": {},
   "outputs": [
    {
     "name": "stdout",
     "output_type": "stream",
     "text": [
      "Enjoy the Pizza with large toppings.\n",
      "Your balance is: 400\n",
      "Enjoy the snacks.\n",
      "Your balance is: 200\n",
      "Enjoy the cold drinks.\n",
      "Your balance is: 100\n"
     ]
    }
   ],
   "source": [
    "balance = int(input(\"Enter your balance: \"))\n",
    "\n",
    "if balance >= 600:\n",
    "    answer = input(\"Would you like to taste our Pizza for $300? Yes or No? \").strip().lower()\n",
    "    \n",
    "    if answer == \"yes\":\n",
    "        balance -= 300\n",
    "        print(\"Enjoy the Pizza with large toppings.\")\n",
    "        print(f\"Your balance is: {balance}\")\n",
    "        \n",
    "        # Check if balance is enough for snacks\n",
    "        if balance >= 400:\n",
    "            answer = input(\"Would you like to taste our delicious snacks for $200? Yes or No? \").strip().lower()\n",
    "            \n",
    "            if answer == \"yes\":\n",
    "                balance -= 200\n",
    "                print(\"Enjoy the snacks.\")\n",
    "                print(f\"Your balance is: {balance}\")\n",
    "                \n",
    "                # Check if balance is enough for cold drinks\n",
    "                if balance >= 200:\n",
    "                    answer = input(\"Would you like our cold drinks for $100? Yes or No? \").strip().lower()\n",
    "                    \n",
    "                    if answer == \"yes\":\n",
    "                        balance -= 100\n",
    "                        print(\"Enjoy the cold drinks.\")\n",
    "                        print(f\"Your balance is: {balance}\")\n",
    "                    else:\n",
    "                        print(f\"Your balance is: {balance}\")\n",
    "                else:\n",
    "                    print(f\"Your balance is: {balance}\")\n",
    "            else:\n",
    "                print(f\"Your balance is: {balance}\")\n",
    "        else:\n",
    "            print(f\"Your balance is: {balance}\")\n",
    "    else:\n",
    "            print(f\"Your balance is: {balance}\")\n",
    "    \n",
    "elif balance >= 400:\n",
    "    answer = input(\"Would you like to taste our delicious snacks for $200? Yes or No? \").strip().lower()\n",
    "    \n",
    "    if answer == \"yes\":\n",
    "        balance -= 200\n",
    "        print(\"Enjoy the snacks.\")\n",
    "        print(f\"Your balance is: {balance}\")\n",
    "        \n",
    "        # Check if balance is enough for cold drinks\n",
    "        if balance >= 200:\n",
    "            answer = input(\"Would you like our cold drinks for $100? Yes or No? \").strip().lower()\n",
    "            \n",
    "            if answer == \"yes\":\n",
    "                balance -= 100\n",
    "                print(\"Enjoy the cold drinks.\")\n",
    "                print(f\"Your balance is: {balance}\")\n",
    "            else:\n",
    "                print(f\"Your balance is: {balance}\")\n",
    "        else:\n",
    "            print(f\"Your balance is: {balance}\")\n",
    "    else:\n",
    "        print(f\"Your balance is: {balance}\")\n",
    "\n",
    "elif balance >= 200:\n",
    "    answer = input(\"Would you like our cold drinks for $100? Yes or No? \").strip().lower()\n",
    "    \n",
    "    if answer == \"yes\":\n",
    "        balance -= 100\n",
    "        print(\"Enjoy the cold drinks.\")\n",
    "        print(f\"Your balance is: {balance}\")\n",
    "    else:\n",
    "        print(f\"Your balance is: {balance}\")\n",
    "        \n",
    "else:\n",
    "    print(\"You are so poor TwT!\")"
   ]
  },
  {
   "cell_type": "code",
   "execution_count": 3,
   "metadata": {},
   "outputs": [
    {
     "name": "stdout",
     "output_type": "stream",
     "text": [
      "You are so poor TwT!\n"
     ]
    }
   ],
   "source": [
    "balance = int(input(\"Enter your balance: \"))\n",
    "\n",
    "if balance >= 600:\n",
    "    answer = input(\"Would you like to taste our Pizza? Yes or No? \").strip().lower()\n",
    "    \n",
    "    if answer == \"yes\":\n",
    "        balance -= 300\n",
    "        print(\"Enjoy the Pizza with large toppings.\")\n",
    "        print(f\"Your balance is: {balance}\")\n",
    "        \n",
    "        # Check if balance is enough for snacks\n",
    "        if balance >= 400:\n",
    "            answer = input(\"Would you like to taste our delicious snacks? Yes or No? \").strip().lower()\n",
    "            \n",
    "            if answer == \"yes\":\n",
    "                balance -= 200\n",
    "                print(\"Enjoy the snacks.\")\n",
    "                print(f\"Your balance is: {balance}\")\n",
    "                \n",
    "                # Check if balance is enough for cold drinks\n",
    "                if balance >= 200:\n",
    "                    answer = input(\"Would you like our cold drinks? Yes or No? \").strip().lower()\n",
    "                    \n",
    "                    if answer == \"yes\":\n",
    "                        balance -= 100\n",
    "                        print(\"Enjoy the cold drinks.\")\n",
    "                        print(f\"Your balance is: {balance}\")\n",
    "                    else:\n",
    "                        print(f\"Your balance is: {balance}\")\n",
    "                else:\n",
    "                    print(f\"Your balance is: {balance}\")\n",
    "            else:\n",
    "                print(f\"Your balance is: {balance}\")\n",
    "        else:\n",
    "            print(f\"Your balance is: {balance}\")\n",
    "    \n",
    "elif balance >= 400:\n",
    "    answer = input(\"Would you like to taste our delicious snacks? Yes or No? \").strip().lower()\n",
    "    \n",
    "    if answer == \"yes\":\n",
    "        balance -= 200\n",
    "        print(\"Enjoy the snacks.\")\n",
    "        print(f\"Your balance is: {balance}\")\n",
    "        \n",
    "        # Check if balance is enough for cold drinks\n",
    "        if balance >= 200:\n",
    "            answer = input(\"Would you like our cold drinks? Yes or No? \").strip().lower()\n",
    "            \n",
    "            if answer == \"yes\":\n",
    "                balance -= 100\n",
    "                print(\"Enjoy the cold drinks.\")\n",
    "                print(f\"Your balance is: {balance}\")\n",
    "            else:\n",
    "                print(f\"Your balance is: {balance}\")\n",
    "        else:\n",
    "            print(f\"Your balance is: {balance}\")\n",
    "    else:\n",
    "        print(f\"Your balance is: {balance}\")\n",
    "\n",
    "elif balance >= 200:\n",
    "    answer = input(\"Would you like our cold drinks? Yes or No? \").strip().lower()\n",
    "    \n",
    "    if answer == \"yes\":\n",
    "        balance -= 100\n",
    "        print(\"Enjoy the cold drinks.\")\n",
    "        print(f\"Your balance is: {balance}\")\n",
    "    else:\n",
    "        print(f\"Your balance is: {balance}\")\n",
    "        \n",
    "else:\n",
    "    print(\"You are so poor TwT!\")"
   ]
  }
 ],
 "metadata": {
  "kernelspec": {
   "display_name": "Python 3",
   "language": "python",
   "name": "python3"
  },
  "language_info": {
   "codemirror_mode": {
    "name": "ipython",
    "version": 3
   },
   "file_extension": ".py",
   "mimetype": "text/x-python",
   "name": "python",
   "nbconvert_exporter": "python",
   "pygments_lexer": "ipython3",
   "version": "3.12.5"
  }
 },
 "nbformat": 4,
 "nbformat_minor": 2
}
